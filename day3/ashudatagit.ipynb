{
 "cells": [
  {
   "cell_type": "code",
   "execution_count": 1,
   "id": "81b8c920-dae8-4432-a004-2e30d6064107",
   "metadata": {},
   "outputs": [],
   "source": [
    "# loading modules\n",
    "from dask.distributed import Client\n",
    "import dask.dataframe as df "
   ]
  },
  {
   "cell_type": "code",
   "execution_count": 2,
   "id": "0cdc0835-8e84-450d-b2a7-917c072b0a5a",
   "metadata": {},
   "outputs": [
    {
     "name": "stdout",
     "output_type": "stream",
     "text": [
      "connected to dask cluster with webUI :  http://44.216.130.200:8787/status\n"
     ]
    }
   ],
   "source": [
    "# Connecting from client machine to dask scheduler \n",
    "dask_api_url = \"tcp://44.216.130.200:8786\"\n",
    "client = Client(dask_api_url)\n",
    "print(\"connected to dask cluster with webUI : \",client.dashboard_link)"
   ]
  },
  {
   "cell_type": "code",
   "execution_count": 3,
   "id": "471da2a1-039a-4855-a735-ff61ffee0a5b",
   "metadata": {},
   "outputs": [],
   "source": [
    "# doing online sales data analysis \n",
    "data_url = \"https://raw.githubusercontent.com/redashu/Datasets/refs/heads/master/sales1.csv\""
   ]
  },
  {
   "cell_type": "code",
   "execution_count": 4,
   "id": "5dd4d60c-295a-443c-b1fb-4b40f09bb57c",
   "metadata": {},
   "outputs": [
    {
     "data": {
      "text/html": [
       "<div>\n",
       "<style scoped>\n",
       "    .dataframe tbody tr th:only-of-type {\n",
       "        vertical-align: middle;\n",
       "    }\n",
       "\n",
       "    .dataframe tbody tr th {\n",
       "        vertical-align: top;\n",
       "    }\n",
       "\n",
       "    .dataframe thead th {\n",
       "        text-align: right;\n",
       "    }\n",
       "</style>\n",
       "<table border=\"1\" class=\"dataframe\">\n",
       "  <thead>\n",
       "    <tr style=\"text-align: right;\">\n",
       "      <th></th>\n",
       "      <th>region</th>\n",
       "      <th>sales</th>\n",
       "      <th>product</th>\n",
       "    </tr>\n",
       "  </thead>\n",
       "  <tbody>\n",
       "    <tr>\n",
       "      <th>0</th>\n",
       "      <td>New York</td>\n",
       "      <td>150</td>\n",
       "      <td>Wireless Earbuds</td>\n",
       "    </tr>\n",
       "    <tr>\n",
       "      <th>1</th>\n",
       "      <td>Los Angeles</td>\n",
       "      <td>200</td>\n",
       "      <td>Smart Speaker</td>\n",
       "    </tr>\n",
       "    <tr>\n",
       "      <th>2</th>\n",
       "      <td>Chicago</td>\n",
       "      <td>50</td>\n",
       "      <td>Bluetooth Keyboard</td>\n",
       "    </tr>\n",
       "    <tr>\n",
       "      <th>3</th>\n",
       "      <td>Houston</td>\n",
       "      <td>300</td>\n",
       "      <td>Smartwatch</td>\n",
       "    </tr>\n",
       "    <tr>\n",
       "      <th>4</th>\n",
       "      <td>Phoenix</td>\n",
       "      <td>120</td>\n",
       "      <td>Tablet Stand</td>\n",
       "    </tr>\n",
       "  </tbody>\n",
       "</table>\n",
       "</div>"
      ],
      "text/plain": [
       "        region  sales             product\n",
       "0     New York    150    Wireless Earbuds\n",
       "1  Los Angeles    200       Smart Speaker\n",
       "2      Chicago     50  Bluetooth Keyboard\n",
       "3      Houston    300          Smartwatch\n",
       "4      Phoenix    120        Tablet Stand"
      ]
     },
     "execution_count": 4,
     "metadata": {},
     "output_type": "execute_result"
    }
   ],
   "source": [
    "# loading data using dask dataframe since it is a little structured one\n",
    "mydf = df.read_csv(data_url)\n",
    "# printing default data\n",
    "mydf.head()"
   ]
  },
  {
   "cell_type": "code",
   "execution_count": 6,
   "id": "32e310fa-24cb-42dd-9e16-42a7974ba8ba",
   "metadata": {},
   "outputs": [],
   "source": [
    "# Example 1 Filter rows where sales are greater than 100 \n",
    "filtered_df = mydf[mydf['sales'] > 100 ]"
   ]
  },
  {
   "cell_type": "code",
   "execution_count": 7,
   "id": "49ccfcf8-146f-4e78-847c-40a416dfa89d",
   "metadata": {},
   "outputs": [],
   "source": [
    "# example 2 -- group by Region and compute total sales per region in above data\n",
    "total_sales_per_region = filtered_df.groupby(\"region\")['sales'].sum()"
   ]
  },
  {
   "cell_type": "code",
   "execution_count": 8,
   "id": "5822014b-242c-4ecc-a880-9fd85daeee1f",
   "metadata": {},
   "outputs": [],
   "source": [
    "# example 3 -- group by Product and compute total sales per Product in above data\n",
    "total_sales_per_product = filtered_df.groupby(\"product\")['sales'].sum()"
   ]
  },
  {
   "cell_type": "code",
   "execution_count": 10,
   "id": "51c6ceee-20c6-41e6-ab1c-89462a2bc4a6",
   "metadata": {},
   "outputs": [
    {
     "name": "stdout",
     "output_type": "stream",
     "text": [
      "total sales per Region (sales >100 ) counts \n",
      "region\n",
      "Austin           110\n",
      "Baltimore        200\n",
      "Charlotte        160\n",
      "Denver           190\n",
      "Detroit          210\n",
      "El Paso          170\n",
      "Fort Worth       220\n",
      "Houston          300\n",
      "Jacksonville     130\n",
      "Las Vegas        180\n",
      "Los Angeles      200\n",
      "Louisville       120\n",
      "Milwaukee        110\n",
      "New York         150\n",
      "Philadelphia     180\n",
      "Phoenix          120\n",
      "Portland         150\n",
      "San Diego        250\n",
      "San Francisco    270\n",
      "San Jose         400\n",
      "Seattle          140\n",
      "Washington       230\n",
      "Name: sales, dtype: int64\n"
     ]
    }
   ],
   "source": [
    "# calling action and print the results\n",
    "print(\"total sales per Region (sales >100 ) counts \")\n",
    "print(total_sales_per_region.compute())"
   ]
  },
  {
   "cell_type": "code",
   "execution_count": 11,
   "id": "3bf8c941-2e0b-4aac-908b-a5f4e1b7ae22",
   "metadata": {},
   "outputs": [
    {
     "name": "stdout",
     "output_type": "stream",
     "text": [
      "total sales per product (sales >100 ) counts \n",
      "product\n",
      "Air Purifier            130\n",
      "Bluetooth Adapter       120\n",
      "Bluetooth Speaker       270\n",
      "Desk Lamp               170\n",
      "External Hard Drive     250\n",
      "Home Security Camera    160\n",
      "Robot Vacuum            110\n",
      "Smart Display           180\n",
      "Smart Light Bulbs       220\n",
      "Smart Lock              200\n",
      "Smart Plug              140\n",
      "Smart Scale             210\n",
      "Smart Speaker           200\n",
      "Smart Thermostat        400\n",
      "Smartwatch              300\n",
      "Streaming Device        190\n",
      "Tablet Stand            120\n",
      "Webcam                  110\n",
      "Wireless Earbuds        150\n",
      "Wireless Keyboard       150\n",
      "Wireless Mouse          180\n",
      "Wireless Router         230\n",
      "Name: sales, dtype: int64\n"
     ]
    }
   ],
   "source": [
    "# calling action and print the results\n",
    "print(\"total sales per product (sales >100 ) counts \")\n",
    "print(total_sales_per_product.compute())"
   ]
  },
  {
   "cell_type": "code",
   "execution_count": null,
   "id": "ec65e597-82f2-48f2-9d71-82c577933ade",
   "metadata": {},
   "outputs": [],
   "source": []
  }
 ],
 "metadata": {
  "kernelspec": {
   "display_name": "Python 3 (ipykernel)",
   "language": "python",
   "name": "python3"
  },
  "language_info": {
   "codemirror_mode": {
    "name": "ipython",
    "version": 3
   },
   "file_extension": ".py",
   "mimetype": "text/x-python",
   "name": "python",
   "nbconvert_exporter": "python",
   "pygments_lexer": "ipython3",
   "version": "3.12.3"
  }
 },
 "nbformat": 4,
 "nbformat_minor": 5
}
