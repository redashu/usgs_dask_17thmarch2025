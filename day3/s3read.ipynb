{
 "cells": [
  {
   "cell_type": "code",
   "execution_count": 6,
   "id": "b98594a4-78dc-48bf-9ab2-c2f76f94bc51",
   "metadata": {},
   "outputs": [],
   "source": [
    "# loading data using single node cluster / without cluster \n",
    "from dask.distributed import Client\n",
    "import dask.dataframe as dd"
   ]
  },
  {
   "cell_type": "code",
   "execution_count": 7,
   "id": "3f1b2d5c-1bb6-4e54-845d-996043a10371",
   "metadata": {},
   "outputs": [
    {
     "name": "stdout",
     "output_type": "stream",
     "text": [
      "connected to dask cluster with webUI :  http://44.216.130.200:8787/status\n"
     ]
    }
   ],
   "source": [
    "# Connecting from client machine to dask scheduler \n",
    "dask_api_url = \"tcp://44.216.130.200:8786\"\n",
    "client = Client(dask_api_url)\n",
    "print(\"connected to dask cluster with webUI : \",client.dashboard_link)"
   ]
  },
  {
   "cell_type": "code",
   "execution_count": 8,
   "id": "1b03b596-e1bb-4c01-a517-f694d7762e0e",
   "metadata": {},
   "outputs": [],
   "source": [
    "# find s3 data URL \n",
    "data_url = \"s3://delvex-software-center/USGS/large_dataset.csv\""
   ]
  },
  {
   "cell_type": "code",
   "execution_count": 9,
   "id": "80566e2a-5fd6-4eb0-aa46-8d5f77bbd001",
   "metadata": {
    "scrolled": true
   },
   "outputs": [],
   "source": [
    "df = dd.read_csv(data_url, storage_options={\"anon\": True})\n",
    "# passing storage_option to provide auth details "
   ]
  },
  {
   "cell_type": "code",
   "execution_count": 10,
   "id": "03a741aa-69a3-429d-9249-7bd832780bdb",
   "metadata": {},
   "outputs": [
    {
     "data": {
      "text/html": [
       "<div>\n",
       "<style scoped>\n",
       "    .dataframe tbody tr th:only-of-type {\n",
       "        vertical-align: middle;\n",
       "    }\n",
       "\n",
       "    .dataframe tbody tr th {\n",
       "        vertical-align: top;\n",
       "    }\n",
       "\n",
       "    .dataframe thead th {\n",
       "        text-align: right;\n",
       "    }\n",
       "</style>\n",
       "<table border=\"1\" class=\"dataframe\">\n",
       "  <thead>\n",
       "    <tr style=\"text-align: right;\">\n",
       "      <th></th>\n",
       "      <th>ID</th>\n",
       "      <th>Name</th>\n",
       "      <th>Age</th>\n",
       "      <th>City</th>\n",
       "      <th>Salary</th>\n",
       "    </tr>\n",
       "  </thead>\n",
       "  <tbody>\n",
       "    <tr>\n",
       "      <th>0</th>\n",
       "      <td>1</td>\n",
       "      <td>Bob</td>\n",
       "      <td>33</td>\n",
       "      <td>Phoenix</td>\n",
       "      <td>104608.15</td>\n",
       "    </tr>\n",
       "    <tr>\n",
       "      <th>1</th>\n",
       "      <td>2</td>\n",
       "      <td>Charlie</td>\n",
       "      <td>25</td>\n",
       "      <td>New York</td>\n",
       "      <td>42922.03</td>\n",
       "    </tr>\n",
       "    <tr>\n",
       "      <th>2</th>\n",
       "      <td>3</td>\n",
       "      <td>Alice</td>\n",
       "      <td>55</td>\n",
       "      <td>Chicago</td>\n",
       "      <td>40155.43</td>\n",
       "    </tr>\n",
       "    <tr>\n",
       "      <th>3</th>\n",
       "      <td>4</td>\n",
       "      <td>Bob</td>\n",
       "      <td>18</td>\n",
       "      <td>Chicago</td>\n",
       "      <td>36625.62</td>\n",
       "    </tr>\n",
       "    <tr>\n",
       "      <th>4</th>\n",
       "      <td>5</td>\n",
       "      <td>Charlie</td>\n",
       "      <td>30</td>\n",
       "      <td>Houston</td>\n",
       "      <td>101225.42</td>\n",
       "    </tr>\n",
       "  </tbody>\n",
       "</table>\n",
       "</div>"
      ],
      "text/plain": [
       "   ID     Name  Age      City     Salary\n",
       "0   1      Bob   33   Phoenix  104608.15\n",
       "1   2  Charlie   25  New York   42922.03\n",
       "2   3    Alice   55   Chicago   40155.43\n",
       "3   4      Bob   18   Chicago   36625.62\n",
       "4   5  Charlie   30   Houston  101225.42"
      ]
     },
     "execution_count": 10,
     "metadata": {},
     "output_type": "execute_result"
    }
   ],
   "source": [
    "df.head()"
   ]
  },
  {
   "cell_type": "code",
   "execution_count": 11,
   "id": "c10c363f-f59f-4275-9cde-b3dd31ee44e1",
   "metadata": {},
   "outputs": [],
   "source": [
    "# calculate avg salary by city \n",
    "avg_sal = df.groupby('City')['Salary'].mean()"
   ]
  },
  {
   "cell_type": "code",
   "execution_count": 12,
   "id": "0a9c06c9-9c5d-4d73-9638-24181e93f266",
   "metadata": {},
   "outputs": [
    {
     "data": {
      "text/plain": [
       "City\n",
       "Chicago        75034.949588\n",
       "Houston        74985.787845\n",
       "Los Angeles    75044.818046\n",
       "New York       75170.690729\n",
       "Phoenix        75158.256643\n",
       "Name: Salary, dtype: float64"
      ]
     },
     "execution_count": 12,
     "metadata": {},
     "output_type": "execute_result"
    }
   ],
   "source": [
    "avg_sal.compute()"
   ]
  },
  {
   "cell_type": "code",
   "execution_count": 13,
   "id": "36ed585b-8ed3-4d76-8bfd-029d0a88f985",
   "metadata": {},
   "outputs": [],
   "source": [
    "# printing aggregations of salaries like min , max , mean \n",
    "agg_sal = df.groupby('City')['Salary'].agg(['min','max','mean'])"
   ]
  },
  {
   "cell_type": "code",
   "execution_count": 14,
   "id": "3290001a-bfde-44a7-95fb-1f1c70809868",
   "metadata": {},
   "outputs": [
    {
     "data": {
      "text/html": [
       "<div>\n",
       "<style scoped>\n",
       "    .dataframe tbody tr th:only-of-type {\n",
       "        vertical-align: middle;\n",
       "    }\n",
       "\n",
       "    .dataframe tbody tr th {\n",
       "        vertical-align: top;\n",
       "    }\n",
       "\n",
       "    .dataframe thead th {\n",
       "        text-align: right;\n",
       "    }\n",
       "</style>\n",
       "<table border=\"1\" class=\"dataframe\">\n",
       "  <thead>\n",
       "    <tr style=\"text-align: right;\">\n",
       "      <th></th>\n",
       "      <th>min</th>\n",
       "      <th>max</th>\n",
       "      <th>mean</th>\n",
       "    </tr>\n",
       "    <tr>\n",
       "      <th>City</th>\n",
       "      <th></th>\n",
       "      <th></th>\n",
       "      <th></th>\n",
       "    </tr>\n",
       "  </thead>\n",
       "  <tbody>\n",
       "    <tr>\n",
       "      <th>Phoenix</th>\n",
       "      <td>30000.17</td>\n",
       "      <td>119999.72</td>\n",
       "      <td>75158.256643</td>\n",
       "    </tr>\n",
       "    <tr>\n",
       "      <th>New York</th>\n",
       "      <td>30003.23</td>\n",
       "      <td>119993.78</td>\n",
       "      <td>75170.690729</td>\n",
       "    </tr>\n",
       "    <tr>\n",
       "      <th>Chicago</th>\n",
       "      <td>30006.56</td>\n",
       "      <td>119999.89</td>\n",
       "      <td>75034.949588</td>\n",
       "    </tr>\n",
       "    <tr>\n",
       "      <th>Houston</th>\n",
       "      <td>30000.02</td>\n",
       "      <td>119994.74</td>\n",
       "      <td>74985.787845</td>\n",
       "    </tr>\n",
       "    <tr>\n",
       "      <th>Los Angeles</th>\n",
       "      <td>30003.62</td>\n",
       "      <td>119992.94</td>\n",
       "      <td>75044.818046</td>\n",
       "    </tr>\n",
       "  </tbody>\n",
       "</table>\n",
       "</div>"
      ],
      "text/plain": [
       "                  min        max          mean\n",
       "City                                          \n",
       "Phoenix      30000.17  119999.72  75158.256643\n",
       "New York     30003.23  119993.78  75170.690729\n",
       "Chicago      30006.56  119999.89  75034.949588\n",
       "Houston      30000.02  119994.74  74985.787845\n",
       "Los Angeles  30003.62  119992.94  75044.818046"
      ]
     },
     "execution_count": 14,
     "metadata": {},
     "output_type": "execute_result"
    }
   ],
   "source": [
    "agg_sal.compute()"
   ]
  },
  {
   "cell_type": "code",
   "execution_count": null,
   "id": "f73224bc-077d-4314-9906-7b9ed99d11ec",
   "metadata": {},
   "outputs": [],
   "source": []
  }
 ],
 "metadata": {
  "kernelspec": {
   "display_name": "Python 3 (ipykernel)",
   "language": "python",
   "name": "python3"
  },
  "language_info": {
   "codemirror_mode": {
    "name": "ipython",
    "version": 3
   },
   "file_extension": ".py",
   "mimetype": "text/x-python",
   "name": "python",
   "nbconvert_exporter": "python",
   "pygments_lexer": "ipython3",
   "version": "3.12.3"
  }
 },
 "nbformat": 4,
 "nbformat_minor": 5
}
