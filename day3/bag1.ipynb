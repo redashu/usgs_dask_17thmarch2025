{
 "cells": [
  {
   "cell_type": "code",
   "execution_count": 24,
   "id": "c7a3dd00-20bb-4ced-a035-f456550f6fdd",
   "metadata": {},
   "outputs": [],
   "source": [
    "# loading modules\n",
    "from dask.distributed import Client\n",
    "import dask.bag as db"
   ]
  },
  {
   "cell_type": "code",
   "execution_count": 25,
   "id": "a211135b-974d-478e-99a6-21f0990cb279",
   "metadata": {},
   "outputs": [
    {
     "name": "stdout",
     "output_type": "stream",
     "text": [
      "connected to dask cluster with webUI :  http://44.216.130.200:8787/status\n"
     ]
    }
   ],
   "source": [
    "# Connecting from client machine to dask scheduler \n",
    "dask_api_url = \"tcp://44.216.130.200:8786\"\n",
    "client = Client(dask_api_url)\n",
    "print(\"connected to dask cluster with webUI : \",client.dashboard_link)"
   ]
  },
  {
   "cell_type": "code",
   "execution_count": 26,
   "id": "a78fecda-8728-4066-a748-43f3d42a49b5",
   "metadata": {},
   "outputs": [],
   "source": [
    "# reading multiple data files of logs from s3 \n",
    "bag = db.read_text(\"s3://delvex-software-center/USGS/logs/*.txt\",storage_options={\"anon\": True})\n"
   ]
  },
  {
   "cell_type": "code",
   "execution_count": null,
   "id": "daccd257-5e87-4e4a-af63-f50fd3834c91",
   "metadata": {},
   "outputs": [],
   "source": [
    "data1 = bag.map(lambda line: line.split())\n"
   ]
  },
  {
   "cell_type": "code",
   "execution_count": 10,
   "id": "d7340bc0-5ef9-4d84-8bd3-42467e9bf94a",
   "metadata": {},
   "outputs": [],
   "source": [
    "# using filter operation in bag to find out all the logs line with error keyword\n",
    "filter_data = bag.filter(lambda line: \"WARN\" in line)"
   ]
  },
  {
   "cell_type": "code",
   "execution_count": 11,
   "id": "66504705-e997-40a9-9996-5b521eef7a18",
   "metadata": {},
   "outputs": [],
   "source": [
    "# calling actions \n",
    "error_logs = filter_data.compute()"
   ]
  },
  {
   "cell_type": "code",
   "execution_count": 12,
   "id": "57ed4768-392c-4410-ab07-4b365e57a447",
   "metadata": {},
   "outputs": [
    {
     "name": "stdout",
     "output_type": "stream",
     "text": [
      "WARNING: Memory usage is high\n",
      "\n",
      "WARNING: Memory usage is high\n",
      "\n",
      "WARNING: Memory usage is high\n",
      "\n",
      "WARNING: Memory usage is high\n",
      "\n",
      "WARNING: Memory usage is high\n",
      "\n",
      "WARNING: Memory usage is high\n",
      "\n",
      "WARNING: Memory usage is high\n",
      "\n",
      "WARNING: Memory usage is high\n",
      "\n",
      "WARNING: Memory usage is high\n",
      "\n",
      "WARNING: Memory usage is high\n",
      "\n",
      "WARNING: Memory usage is high\n",
      "\n",
      "WARNING: Low disk space\n",
      "\n",
      "WARNING: Low disk space\n",
      "\n",
      "WARNING: Low disk space\n",
      "\n",
      "WARNING: Low disk space\n",
      "\n",
      "WARNING: Low disk space\n",
      "\n",
      "WARNING: Low disk space\n",
      "\n",
      "WARNING: Low disk space\n",
      "\n",
      "WARNING: Low disk space\n",
      "\n",
      "WARNING: Low disk space\n",
      "\n",
      "WARNING: Low disk space\n",
      "\n",
      "WARNING: Low disk space\n",
      "\n",
      "WARNING: Low disk space\n",
      "\n",
      "WARNING: Low disk space\n",
      "\n",
      "WARNING: Low disk space\n",
      "\n"
     ]
    }
   ],
   "source": [
    "# print it \n",
    "for i in error_logs:\n",
    "    print(i)"
   ]
  },
  {
   "cell_type": "code",
   "execution_count": 19,
   "id": "8fd44090-2a6e-4845-9f24-0ccc247a422b",
   "metadata": {},
   "outputs": [],
   "source": [
    "# another example -- logs, json , dict , list \n",
    "\n",
    "# create bag from list of  numbers\n",
    "number = db.from_sequence([1,2,3,4,5,6,7,8,9,10])"
   ]
  },
  {
   "cell_type": "code",
   "execution_count": 20,
   "id": "f4034657-3697-477b-aae7-233e227a834f",
   "metadata": {},
   "outputs": [],
   "source": [
    "# filtering only even numbers \n",
    "even_numbers = number.filter(lambda n1: n1 % 2 == 0)"
   ]
  },
  {
   "cell_type": "code",
   "execution_count": 21,
   "id": "bbc281c1-8e7c-4e9e-891e-225a4f2adfac",
   "metadata": {},
   "outputs": [],
   "source": [
    "# using map to apply multiply funcation with each element in bag \n",
    "squared_number = number.map(lambda x: x ** 2)"
   ]
  },
  {
   "cell_type": "code",
   "execution_count": 22,
   "id": "f8e72a3a-2810-475c-ac12-8c573b61bebd",
   "metadata": {},
   "outputs": [
    {
     "data": {
      "text/plain": [
       "[2, 4, 6, 8, 10]"
      ]
     },
     "execution_count": 22,
     "metadata": {},
     "output_type": "execute_result"
    }
   ],
   "source": [
    "even_numbers.compute()"
   ]
  },
  {
   "cell_type": "code",
   "execution_count": 23,
   "id": "56a51c8f-1687-4e9e-8972-7998d214c575",
   "metadata": {},
   "outputs": [
    {
     "data": {
      "text/plain": [
       "[1, 4, 9, 16, 25, 36, 49, 64, 81, 100]"
      ]
     },
     "execution_count": 23,
     "metadata": {},
     "output_type": "execute_result"
    }
   ],
   "source": [
    "# map compute result \n",
    "squared_number.compute()"
   ]
  },
  {
   "cell_type": "code",
   "execution_count": 16,
   "id": "2d3304cb-a6e7-4661-b11d-725d371acbec",
   "metadata": {},
   "outputs": [],
   "source": [
    "client.close()"
   ]
  },
  {
   "cell_type": "code",
   "execution_count": null,
   "id": "03dc86e4-a3df-4ffd-b61f-343b962b3ad2",
   "metadata": {},
   "outputs": [],
   "source": []
  }
 ],
 "metadata": {
  "kernelspec": {
   "display_name": "Python 3 (ipykernel)",
   "language": "python",
   "name": "python3"
  },
  "language_info": {
   "codemirror_mode": {
    "name": "ipython",
    "version": 3
   },
   "file_extension": ".py",
   "mimetype": "text/x-python",
   "name": "python",
   "nbconvert_exporter": "python",
   "pygments_lexer": "ipython3",
   "version": "3.12.3"
  }
 },
 "nbformat": 4,
 "nbformat_minor": 5
}
